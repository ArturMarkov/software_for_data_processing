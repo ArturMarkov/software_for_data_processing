{
 "cells": [
  {
   "cell_type": "markdown",
   "metadata": {},
   "source": [
    "# LAB 2\n",
    "### prepared by Markov Artur"
   ]
  },
  {
   "cell_type": "markdown",
   "metadata": {},
   "source": [
    "## Task 2. Working with files"
   ]
  },
  {
   "cell_type": "markdown",
   "metadata": {},
   "source": [
    "\n",
    "Data\n",
    "\n",
    "The zip file `specdata.zip [2.4MB]` containing the data can be downloaded from data folder is course repository.\n",
    "\n",
    "The zip file contains 332 comma-separated-value (CSV) files containing pollution monitoring data for fine particulate matter (PM) air pollution at 332 locations in the United States. Each file contains data from a single monitor and the ID number for each monitor is contained in the file name. For example, data for monitor 200 is contained in the file \"200.csv\". Each file contains three variables:\n",
    "\n",
    "Date: the date of the observation in YYYY-MM-DD format (year-month-day)\n",
    "\n",
    "sulfate: the level of sulfate PM in the air on that date (measured in micrograms per cubic meter)\n",
    "\n",
    "nitrate: the level of nitrate PM in the air on that date (measured in micrograms per cubic meter)\n",
    "\n",
    "In each file there are many days where either sulfate or nitrate (or both) are missing (coded as NA). This is common with air pollution monitoring data in the United States.\n"
   ]
  },
  {
   "cell_type": "code",
   "execution_count": 1,
   "metadata": {},
   "outputs": [],
   "source": [
    "import pandas as pd\n",
    "import numpy as np\n",
    "import os"
   ]
  },
  {
   "cell_type": "markdown",
   "metadata": {},
   "source": [
    "\n",
    "## Part 1\n",
    "\n",
    "Write a function named pollutantmean that calculates the mean of a pollutant (sulfate or nitrate) across a specified list of monitors. The function pollutantmean takes three arguments: directory, pollutant, and id. Given a vector monitor ID numbers, pollutantmean reads that monitors' particulate matter data from the directory specified in the directory argument and returns the mean of the pollutant across all of the monitors, ignoring any missing values coded as NA.\n",
    "\n",
    "You can see some example output from this function below.\n",
    "``` r\n",
    "pollutantmean(\"specdata\", \"sulfate\", 1:10)\n",
    "## [1] 4.064128\n",
    "\n",
    "pollutantmean(\"specdata\", \"nitrate\", 70:72)\n",
    "## [1] 1.706047\n",
    "\n",
    "pollutantmean(\"specdata\", \"nitrate\", 23)\n",
    "## [1] 1.280833\n",
    "```\n"
   ]
  },
  {
   "cell_type": "code",
   "execution_count": 2,
   "metadata": {},
   "outputs": [
    {
     "data": {
      "text/plain": [
       "'/Users/arturmarkov/univer/master_degree/software_for_data_processing/L2/specdata'"
      ]
     },
     "execution_count": 2,
     "metadata": {},
     "output_type": "execute_result"
    }
   ],
   "source": [
    "lab_folder_path = '/Users/arturmarkov/univer/master_degree/software_for_data_processing/L2'\n",
    "os.path.join(lab_folder_path, 'specdata')"
   ]
  },
  {
   "cell_type": "code",
   "execution_count": 3,
   "metadata": {},
   "outputs": [],
   "source": [
    "def get_specific_dfs(directory, id) -> dict:\n",
    "\n",
    "    if isinstance(id, tuple):\n",
    "        array = [i for i in range(min(id[0], id[1]), max(id[0], id[1])+1, *id[2:])]\n",
    "    elif isinstance(id, list):\n",
    "        array = id\n",
    "    elif isinstance(id, int):\n",
    "        array = [id]\n",
    "    else: \n",
    "        raise ValueError('id should be float if single or tuple if iterable!!')\n",
    " \n",
    "    path, _, filenames = list(os.walk(os.path.join(lab_folder_path, directory)))[0]\n",
    "    filenames = sorted(filenames)\n",
    "    files = dict(\n",
    "        [(i+1, os.path.join(path,filenames[i])) for i in range(0,len(filenames))]\n",
    "    )\n",
    "\n",
    "    t = []\n",
    "    for i in array:\n",
    "        try:\n",
    "            df = pd.read_csv(files[i])\n",
    "            df['id'] = i\n",
    "            t.append(df)\n",
    "        except Exception:\n",
    "            break\n",
    "    return pd.concat(t)\n",
    "\n",
    "def pollutantmean(directory: str, pollutant: str, id) -> float:\n",
    "    \"\"\"\n",
    "    \"\"\"\n",
    "    df = get_specific_dfs(directory, id)\n",
    "    return df[pollutant].mean().round(6)\n"
   ]
  },
  {
   "cell_type": "code",
   "execution_count": 4,
   "metadata": {},
   "outputs": [],
   "source": [
    "# pollutantmean(\"specdata\", \"sulfate\", 1:10)\n",
    "## [1] 4.064128\n",
    "\n",
    "# pollutantmean(\"specdata\", \"nitrate\", 70:72)\n",
    "## [1] 1.706047\n",
    "\n",
    "# pollutantmean(\"specdata\", \"nitrate\", 23)\n",
    "## [1] 1.280833\n",
    "\n",
    "assert  pollutantmean(\"specdata\", \"sulfate\", (1,10)) == 4.064128\n",
    "assert  pollutantmean(\"specdata\", \"nitrate\", (70, 72)) == 1.706047\n",
    "assert  pollutantmean('specdata', 'nitrate', 23) == 1.280833"
   ]
  },
  {
   "cell_type": "markdown",
   "metadata": {},
   "source": [
    "\n",
    "## Part 2\n",
    "\n",
    "Write a function named complete that reads a directory full of files and reports the number of completely observed cases in each data file. The function should return a data frame where the first column is the name of the file and the second column is the number of complete cases.\n"
   ]
  },
  {
   "cell_type": "code",
   "execution_count": 5,
   "metadata": {},
   "outputs": [],
   "source": [
    "def _complete(df: pd.DataFrame, id_col:str = 'id') -> pd.DataFrame:\n",
    "    \"\"\"\n",
    "    Count complete rows through specific column as identifier\n",
    "    \"\"\"\n",
    "    df['complete'] = ~(df.isna().any(axis=1))\n",
    "    return df.groupby([id_col], as_index=False, sort=False).complete.sum().rename(columns={'complete':'nobs'})\n",
    "\n",
    "def complete(directory: str, id) -> pd.DataFrame:\n",
    "\n",
    "    df = get_specific_dfs(directory, id)\n",
    "\n",
    "    return _complete(df)"
   ]
  },
  {
   "cell_type": "markdown",
   "metadata": {},
   "source": [
    "```\n",
    "complete(\"specdata\", 1)\n",
    "##   id nobs\n",
    "## 1  1  117\n",
    "```"
   ]
  },
  {
   "cell_type": "code",
   "execution_count": 6,
   "metadata": {},
   "outputs": [
    {
     "data": {
      "text/html": [
       "<div>\n",
       "<style scoped>\n",
       "    .dataframe tbody tr th:only-of-type {\n",
       "        vertical-align: middle;\n",
       "    }\n",
       "\n",
       "    .dataframe tbody tr th {\n",
       "        vertical-align: top;\n",
       "    }\n",
       "\n",
       "    .dataframe thead th {\n",
       "        text-align: right;\n",
       "    }\n",
       "</style>\n",
       "<table border=\"1\" class=\"dataframe\">\n",
       "  <thead>\n",
       "    <tr style=\"text-align: right;\">\n",
       "      <th></th>\n",
       "      <th>id</th>\n",
       "      <th>nobs</th>\n",
       "    </tr>\n",
       "  </thead>\n",
       "  <tbody>\n",
       "    <tr>\n",
       "      <th>0</th>\n",
       "      <td>1</td>\n",
       "      <td>117</td>\n",
       "    </tr>\n",
       "  </tbody>\n",
       "</table>\n",
       "</div>"
      ],
      "text/plain": [
       "   id  nobs\n",
       "0   1   117"
      ]
     },
     "execution_count": 6,
     "metadata": {},
     "output_type": "execute_result"
    }
   ],
   "source": [
    "complete(\"specdata\", 1)"
   ]
  },
  {
   "cell_type": "markdown",
   "metadata": {},
   "source": [
    "``` r\n",
    "complete(\"specdata\", c(2, 4, 8, 10, 12))\n",
    "##   id nobs\n",
    "## 1  2 1041\n",
    "## 2  4  474\n",
    "## 3  8  192\n",
    "## 4 10  148\n",
    "## 5 12   96\n",
    "```"
   ]
  },
  {
   "cell_type": "code",
   "execution_count": 7,
   "metadata": {},
   "outputs": [
    {
     "data": {
      "text/html": [
       "<div>\n",
       "<style scoped>\n",
       "    .dataframe tbody tr th:only-of-type {\n",
       "        vertical-align: middle;\n",
       "    }\n",
       "\n",
       "    .dataframe tbody tr th {\n",
       "        vertical-align: top;\n",
       "    }\n",
       "\n",
       "    .dataframe thead th {\n",
       "        text-align: right;\n",
       "    }\n",
       "</style>\n",
       "<table border=\"1\" class=\"dataframe\">\n",
       "  <thead>\n",
       "    <tr style=\"text-align: right;\">\n",
       "      <th></th>\n",
       "      <th>id</th>\n",
       "      <th>nobs</th>\n",
       "    </tr>\n",
       "  </thead>\n",
       "  <tbody>\n",
       "    <tr>\n",
       "      <th>0</th>\n",
       "      <td>2</td>\n",
       "      <td>1041</td>\n",
       "    </tr>\n",
       "    <tr>\n",
       "      <th>1</th>\n",
       "      <td>4</td>\n",
       "      <td>474</td>\n",
       "    </tr>\n",
       "    <tr>\n",
       "      <th>2</th>\n",
       "      <td>8</td>\n",
       "      <td>192</td>\n",
       "    </tr>\n",
       "    <tr>\n",
       "      <th>3</th>\n",
       "      <td>10</td>\n",
       "      <td>148</td>\n",
       "    </tr>\n",
       "    <tr>\n",
       "      <th>4</th>\n",
       "      <td>12</td>\n",
       "      <td>96</td>\n",
       "    </tr>\n",
       "  </tbody>\n",
       "</table>\n",
       "</div>"
      ],
      "text/plain": [
       "   id  nobs\n",
       "0   2  1041\n",
       "1   4   474\n",
       "2   8   192\n",
       "3  10   148\n",
       "4  12    96"
      ]
     },
     "execution_count": 7,
     "metadata": {},
     "output_type": "execute_result"
    }
   ],
   "source": [
    "complete(\"specdata\", [2, 4, 8, 10, 12])"
   ]
  },
  {
   "cell_type": "markdown",
   "metadata": {},
   "source": [
    "``` r\n",
    "complete(\"specdata\", 30:25)\n",
    "##   id nobs\n",
    "## 1 30  932\n",
    "## 2 29  711\n",
    "## 3 28  475\n",
    "## 4 27  338\n",
    "## 5 26  586\n",
    "## 6 25  463\n",
    "```"
   ]
  },
  {
   "cell_type": "code",
   "execution_count": 8,
   "metadata": {},
   "outputs": [
    {
     "data": {
      "text/html": [
       "<div>\n",
       "<style scoped>\n",
       "    .dataframe tbody tr th:only-of-type {\n",
       "        vertical-align: middle;\n",
       "    }\n",
       "\n",
       "    .dataframe tbody tr th {\n",
       "        vertical-align: top;\n",
       "    }\n",
       "\n",
       "    .dataframe thead th {\n",
       "        text-align: right;\n",
       "    }\n",
       "</style>\n",
       "<table border=\"1\" class=\"dataframe\">\n",
       "  <thead>\n",
       "    <tr style=\"text-align: right;\">\n",
       "      <th></th>\n",
       "      <th>id</th>\n",
       "      <th>nobs</th>\n",
       "    </tr>\n",
       "  </thead>\n",
       "  <tbody>\n",
       "    <tr>\n",
       "      <th>5</th>\n",
       "      <td>30</td>\n",
       "      <td>932</td>\n",
       "    </tr>\n",
       "    <tr>\n",
       "      <th>4</th>\n",
       "      <td>29</td>\n",
       "      <td>711</td>\n",
       "    </tr>\n",
       "    <tr>\n",
       "      <th>3</th>\n",
       "      <td>28</td>\n",
       "      <td>475</td>\n",
       "    </tr>\n",
       "    <tr>\n",
       "      <th>2</th>\n",
       "      <td>27</td>\n",
       "      <td>338</td>\n",
       "    </tr>\n",
       "    <tr>\n",
       "      <th>1</th>\n",
       "      <td>26</td>\n",
       "      <td>586</td>\n",
       "    </tr>\n",
       "    <tr>\n",
       "      <th>0</th>\n",
       "      <td>25</td>\n",
       "      <td>463</td>\n",
       "    </tr>\n",
       "  </tbody>\n",
       "</table>\n",
       "</div>"
      ],
      "text/plain": [
       "   id  nobs\n",
       "5  30   932\n",
       "4  29   711\n",
       "3  28   475\n",
       "2  27   338\n",
       "1  26   586\n",
       "0  25   463"
      ]
     },
     "execution_count": 8,
     "metadata": {},
     "output_type": "execute_result"
    }
   ],
   "source": [
    "complete(\"specdata\", (30, 25))[::-1]"
   ]
  },
  {
   "cell_type": "markdown",
   "metadata": {},
   "source": [
    "\n",
    "## Part 3\n",
    "\n",
    "Write a function named corr that takes a directory of data files and a threshold for complete cases and calculates the correlation between sulfate and nitrate for monitor locations where the number of completely observed cases (on all variables) is greater than the threshold. The function should return a vector of correlations for the monitors that meet the threshold requirement. If no monitors meet the threshold requirement, then the function should return a numeric vector of length 0. For this function you will need to use the 'cor' function in R which calculates the correlation between two vectors."
   ]
  },
  {
   "cell_type": "code",
   "execution_count": null,
   "metadata": {},
   "outputs": [],
   "source": [
    "def corr(directory:str, threshold:int):\n",
    "    df = get_specific_dfs(directory, (1,10000))\n",
    "    complete_info = _complete(df)\n",
    "\n",
    "    complete_info = complete_info[complete_info.nobs>threshold]\n",
    "\n",
    "    corr_info = df[df.id.isin(complete_info.id.unique())].groupby('id')[['sulfate','nitrate']].corr().iloc[0::2,-1]\n",
    "\n",
    "    return corr_info.values\n",
    "def summary(corr_info):\n",
    "    return pd.DataFrame(pd.Series(corr_info).describe(percentiles=[.25,.75]).round(5)).transpose().reset_index()[['min', '25%', '50%', 'mean', '75%', 'max']]"
   ]
  },
  {
   "cell_type": "markdown",
   "metadata": {},
   "source": [
    "``` r\n",
    "cr <- corr(\"specdata\", 150)\n",
    "head(cr)\n",
    "## [1] -0.01895754 -0.14051254 -0.04389737 -0.06815956 -0.12350667 -0.07588814\n",
    "summary(cr)\n",
    "##     Min.  1st Qu.   Median     Mean  3rd Qu.     Max. \n",
    "## -0.21057 -0.04999  0.09463  0.12525  0.26844  0.76313\n",
    "```"
   ]
  },
  {
   "cell_type": "code",
   "execution_count": 10,
   "metadata": {},
   "outputs": [
    {
     "data": {
      "text/html": [
       "<div>\n",
       "<style scoped>\n",
       "    .dataframe tbody tr th:only-of-type {\n",
       "        vertical-align: middle;\n",
       "    }\n",
       "\n",
       "    .dataframe tbody tr th {\n",
       "        vertical-align: top;\n",
       "    }\n",
       "\n",
       "    .dataframe thead th {\n",
       "        text-align: right;\n",
       "    }\n",
       "</style>\n",
       "<table border=\"1\" class=\"dataframe\">\n",
       "  <thead>\n",
       "    <tr style=\"text-align: right;\">\n",
       "      <th></th>\n",
       "      <th>min</th>\n",
       "      <th>25%</th>\n",
       "      <th>50%</th>\n",
       "      <th>mean</th>\n",
       "      <th>75%</th>\n",
       "      <th>max</th>\n",
       "    </tr>\n",
       "  </thead>\n",
       "  <tbody>\n",
       "    <tr>\n",
       "      <th>0</th>\n",
       "      <td>-0.21057</td>\n",
       "      <td>-0.04999</td>\n",
       "      <td>0.09463</td>\n",
       "      <td>0.12525</td>\n",
       "      <td>0.26844</td>\n",
       "      <td>0.76313</td>\n",
       "    </tr>\n",
       "  </tbody>\n",
       "</table>\n",
       "</div>"
      ],
      "text/plain": [
       "       min      25%      50%     mean      75%      max\n",
       "0 -0.21057 -0.04999  0.09463  0.12525  0.26844  0.76313"
      ]
     },
     "execution_count": 10,
     "metadata": {},
     "output_type": "execute_result"
    }
   ],
   "source": [
    "cr = corr(\"specdata\", 150)\n",
    "summary(cr)"
   ]
  },
  {
   "cell_type": "markdown",
   "metadata": {},
   "source": [
    "``` r\n",
    "cr <- corr(\"specdata\", 400)\n",
    "head(cr)\n",
    "## [1] -0.01895754 -0.04389737 -0.06815956 -0.07588814  0.76312884 -0.15782860\n",
    "summary(cr)\n",
    "##     Min.  1st Qu.   Median     Mean  3rd Qu.     Max. \n",
    "## -0.17623 -0.03109  0.10021  0.13969  0.26849  0.76313\n",
    "\n",
    "```"
   ]
  },
  {
   "cell_type": "code",
   "execution_count": 11,
   "metadata": {},
   "outputs": [
    {
     "data": {
      "text/html": [
       "<div>\n",
       "<style scoped>\n",
       "    .dataframe tbody tr th:only-of-type {\n",
       "        vertical-align: middle;\n",
       "    }\n",
       "\n",
       "    .dataframe tbody tr th {\n",
       "        vertical-align: top;\n",
       "    }\n",
       "\n",
       "    .dataframe thead th {\n",
       "        text-align: right;\n",
       "    }\n",
       "</style>\n",
       "<table border=\"1\" class=\"dataframe\">\n",
       "  <thead>\n",
       "    <tr style=\"text-align: right;\">\n",
       "      <th></th>\n",
       "      <th>min</th>\n",
       "      <th>25%</th>\n",
       "      <th>50%</th>\n",
       "      <th>mean</th>\n",
       "      <th>75%</th>\n",
       "      <th>max</th>\n",
       "    </tr>\n",
       "  </thead>\n",
       "  <tbody>\n",
       "    <tr>\n",
       "      <th>0</th>\n",
       "      <td>-0.17623</td>\n",
       "      <td>-0.03109</td>\n",
       "      <td>0.10021</td>\n",
       "      <td>0.13969</td>\n",
       "      <td>0.26849</td>\n",
       "      <td>0.76313</td>\n",
       "    </tr>\n",
       "  </tbody>\n",
       "</table>\n",
       "</div>"
      ],
      "text/plain": [
       "       min      25%      50%     mean      75%      max\n",
       "0 -0.17623 -0.03109  0.10021  0.13969  0.26849  0.76313"
      ]
     },
     "execution_count": 11,
     "metadata": {},
     "output_type": "execute_result"
    }
   ],
   "source": [
    "cr = corr(\"specdata\", 400)\n",
    "summary(cr)"
   ]
  },
  {
   "cell_type": "markdown",
   "metadata": {},
   "source": [
    "```\n",
    "cr <- corr(\"specdata\", 5000)\n",
    "summary(cr)\n",
    "##    Min. 1st Qu.  Median    Mean 3rd Qu.    Max. \n",
    "##\n",
    "length(cr)\n",
    "## [1] 0\n",
    "```"
   ]
  },
  {
   "cell_type": "code",
   "execution_count": 12,
   "metadata": {},
   "outputs": [
    {
     "data": {
      "text/html": [
       "<div>\n",
       "<style scoped>\n",
       "    .dataframe tbody tr th:only-of-type {\n",
       "        vertical-align: middle;\n",
       "    }\n",
       "\n",
       "    .dataframe tbody tr th {\n",
       "        vertical-align: top;\n",
       "    }\n",
       "\n",
       "    .dataframe thead th {\n",
       "        text-align: right;\n",
       "    }\n",
       "</style>\n",
       "<table border=\"1\" class=\"dataframe\">\n",
       "  <thead>\n",
       "    <tr style=\"text-align: right;\">\n",
       "      <th></th>\n",
       "      <th>min</th>\n",
       "      <th>25%</th>\n",
       "      <th>50%</th>\n",
       "      <th>mean</th>\n",
       "      <th>75%</th>\n",
       "      <th>max</th>\n",
       "    </tr>\n",
       "  </thead>\n",
       "  <tbody>\n",
       "    <tr>\n",
       "      <th>0</th>\n",
       "      <td>NaN</td>\n",
       "      <td>NaN</td>\n",
       "      <td>NaN</td>\n",
       "      <td>NaN</td>\n",
       "      <td>NaN</td>\n",
       "      <td>NaN</td>\n",
       "    </tr>\n",
       "  </tbody>\n",
       "</table>\n",
       "</div>"
      ],
      "text/plain": [
       "   min  25%  50%  mean  75%  max\n",
       "0  NaN  NaN  NaN   NaN  NaN  NaN"
      ]
     },
     "execution_count": 12,
     "metadata": {},
     "output_type": "execute_result"
    }
   ],
   "source": [
    "cr = corr(\"specdata\", 5000)\n",
    "summary(cr)"
   ]
  },
  {
   "cell_type": "markdown",
   "metadata": {},
   "source": []
  }
 ],
 "metadata": {
  "kernelspec": {
   "display_name": "Python 3.8.9 ('artur_venv')",
   "language": "python",
   "name": "python3"
  },
  "language_info": {
   "codemirror_mode": {
    "name": "ipython",
    "version": 3
   },
   "file_extension": ".py",
   "mimetype": "text/x-python",
   "name": "python",
   "nbconvert_exporter": "python",
   "pygments_lexer": "ipython3",
   "version": "3.8.9"
  },
  "orig_nbformat": 4,
  "vscode": {
   "interpreter": {
    "hash": "5ba688fe027127b4e0a15469c7e90180b92e368f7178865286434d5e1e71ebb9"
   }
  }
 },
 "nbformat": 4,
 "nbformat_minor": 2
}
