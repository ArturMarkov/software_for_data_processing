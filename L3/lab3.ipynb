{
 "cells": [
  {
   "cell_type": "markdown",
   "metadata": {},
   "source": [
    "# LAB 3\n",
    "### prepared by Markov Artur"
   ]
  },
  {
   "cell_type": "code",
   "execution_count": 1,
   "metadata": {},
   "outputs": [],
   "source": [
    "import pandas as pd\n",
    "import numpy as np"
   ]
  },
  {
   "cell_type": "markdown",
   "metadata": {},
   "source": [
    "## Task 3. Tidying data\n"
   ]
  },
  {
   "cell_type": "markdown",
   "metadata": {},
   "source": [
    "\n",
    "### Data\n",
    "\n",
    "Dataset `hike_data.rds` contains information about hiking routes from (Washington Trail Association)\\[https://www.wta.org/go-outside/hikes?b_start:int=1\\].\n",
    "\n",
    "Data contains the next columns:\n",
    "\n",
    "| variable    | class     | description                                            |\n",
    "|:------------------------|:---------------------|:------------------------|\n",
    "| name        | character | Name of trail                                          |\n",
    "| location    | character | Location of Trail                                      |\n",
    "| length      | character | Length of trail (note that most have `miles` included) |\n",
    "| gain        | character | Gain in elevation (Feet above sea level)               |\n",
    "| highpoint   | character | Highest point in feet above sea level                  |\n",
    "| rating      | character | User submitted rating (out of 5)                       |\n",
    "| features    | character | Features                                               |\n",
    "| description | character | Description of trail                                   |\n"
   ]
  },
  {
   "cell_type": "markdown",
   "metadata": {},
   "source": [
    "### Data transforming\n",
    "\n",
    "Because of data formatting in `hike_data.rds` -- none of the packages (`r2py`, `pyreadr` etc) were unable to transform .rds to .csv\n",
    "So I come up with solution in R:\n",
    "The code listed below\n",
    "``` r\n",
    "folder_from <- '/Users/arturmarkov/univer/master_degree/software_for_data_processing/L3/hike_data.rds'\n",
    "folder_to <- '/Users/arturmarkov/univer/master_degree/software_for_data_processing/L3/hike_data.csv'\n",
    "df_with_special_characters <- readRDS(folder_from)\n",
    "\n",
    "\n",
    "df_with_special_characters['features'] = apply(df_with_special_characters['features'], 1:2, FUN=function(x) gsub(\"  \", \"\", paste(unlist(x, use.names = FALSE), collapse = ', ')))\n",
    "head(df_with_special_characters, 1)\n",
    "write.csv(df_with_special_characters, folder_to, row.names=FALSE)\n",
    "\n",
    "```"
   ]
  },
  {
   "cell_type": "code",
   "execution_count": 2,
   "metadata": {},
   "outputs": [],
   "source": [
    "df = pd.read_csv('/Users/arturmarkov/univer/master_degree/software_for_data_processing/L3/hike_data.csv')"
   ]
  },
  {
   "cell_type": "code",
   "execution_count": 3,
   "metadata": {},
   "outputs": [
    {
     "data": {
      "text/html": [
       "<div>\n",
       "<style scoped>\n",
       "    .dataframe tbody tr th:only-of-type {\n",
       "        vertical-align: middle;\n",
       "    }\n",
       "\n",
       "    .dataframe tbody tr th {\n",
       "        vertical-align: top;\n",
       "    }\n",
       "\n",
       "    .dataframe thead th {\n",
       "        text-align: right;\n",
       "    }\n",
       "</style>\n",
       "<table border=\"1\" class=\"dataframe\">\n",
       "  <thead>\n",
       "    <tr style=\"text-align: right;\">\n",
       "      <th></th>\n",
       "      <th>name</th>\n",
       "      <th>location</th>\n",
       "      <th>length</th>\n",
       "      <th>gain</th>\n",
       "      <th>highpoint</th>\n",
       "      <th>rating</th>\n",
       "      <th>features</th>\n",
       "      <th>description</th>\n",
       "    </tr>\n",
       "  </thead>\n",
       "  <tbody>\n",
       "    <tr>\n",
       "      <th>0</th>\n",
       "      <td>Lake Hills Greenbelt</td>\n",
       "      <td>Puget Sound and Islands -- Seattle-Tacoma Area</td>\n",
       "      <td>2.3 miles, roundtrip</td>\n",
       "      <td>50</td>\n",
       "      <td>330.0</td>\n",
       "      <td>3.67</td>\n",
       "      <td>Dogs allowed on leash, Wildlife, Good for kids...</td>\n",
       "      <td>Hike through a pastoral area first settled and...</td>\n",
       "    </tr>\n",
       "    <tr>\n",
       "      <th>1</th>\n",
       "      <td>Snow Lake</td>\n",
       "      <td>Snoqualmie Region -- Snoqualmie Pass</td>\n",
       "      <td>7.2 miles, roundtrip</td>\n",
       "      <td>1800</td>\n",
       "      <td>4400.0</td>\n",
       "      <td>4.16</td>\n",
       "      <td>Ridges/passes, Dogs allowed on leash, Establis...</td>\n",
       "      <td>A relatively short and easy hike within a ston...</td>\n",
       "    </tr>\n",
       "    <tr>\n",
       "      <th>2</th>\n",
       "      <td>Skookum Flats</td>\n",
       "      <td>Mount Rainier Area -- Chinook Pass - Hwy 410</td>\n",
       "      <td>7.8 miles, roundtrip</td>\n",
       "      <td>300</td>\n",
       "      <td>2550.0</td>\n",
       "      <td>3.68</td>\n",
       "      <td>Wildflowers/Meadows, Mountain views, Wildlife,...</td>\n",
       "      <td>Choose between a shorter or longer river walk ...</td>\n",
       "    </tr>\n",
       "  </tbody>\n",
       "</table>\n",
       "</div>"
      ],
      "text/plain": [
       "                   name                                        location  \\\n",
       "0  Lake Hills Greenbelt  Puget Sound and Islands -- Seattle-Tacoma Area   \n",
       "1             Snow Lake            Snoqualmie Region -- Snoqualmie Pass   \n",
       "2         Skookum Flats    Mount Rainier Area -- Chinook Pass - Hwy 410   \n",
       "\n",
       "                 length  gain  highpoint  rating  \\\n",
       "0  2.3 miles, roundtrip    50      330.0    3.67   \n",
       "1  7.2 miles, roundtrip  1800     4400.0    4.16   \n",
       "2  7.8 miles, roundtrip   300     2550.0    3.68   \n",
       "\n",
       "                                            features  \\\n",
       "0  Dogs allowed on leash, Wildlife, Good for kids...   \n",
       "1  Ridges/passes, Dogs allowed on leash, Establis...   \n",
       "2  Wildflowers/Meadows, Mountain views, Wildlife,...   \n",
       "\n",
       "                                         description  \n",
       "0  Hike through a pastoral area first settled and...  \n",
       "1  A relatively short and easy hike within a ston...  \n",
       "2  Choose between a shorter or longer river walk ...  "
      ]
     },
     "execution_count": 3,
     "metadata": {},
     "output_type": "execute_result"
    }
   ],
   "source": [
    "df[:3]"
   ]
  },
  {
   "cell_type": "markdown",
   "metadata": {},
   "source": [
    "### Tidying dataset\n",
    "\n",
    "Create a new dataset `clean_hike_trails` with the next updates:\n"
   ]
  },
  {
   "cell_type": "code",
   "execution_count": 4,
   "metadata": {},
   "outputs": [],
   "source": [
    "clean_hike_trails = df.copy()"
   ]
  },
  {
   "cell_type": "markdown",
   "metadata": {},
   "source": [
    "1.  Convert columns `gain`, `highpoint`, `rating` to numeric values."
   ]
  },
  {
   "cell_type": "code",
   "execution_count": 5,
   "metadata": {},
   "outputs": [],
   "source": [
    "\n",
    "for col in ['gain', 'highpoint', 'rating']:\n",
    "    clean_hike_trails[col] = clean_hike_trails[col].astype(float)\n"
   ]
  },
  {
   "cell_type": "markdown",
   "metadata": {},
   "source": [
    "2.  Add new column `trip` with the type of trip from column `length` (\"roundtrip\", \"trails\", \"one-way\")."
   ]
  },
  {
   "cell_type": "code",
   "execution_count": 6,
   "metadata": {},
   "outputs": [],
   "source": [
    "_bins = [\"roundtrip\", \"trails\", \"one-way\"]\n",
    "_conditions = [\n",
    "    clean_hike_trails.length.str.contains(item) for item in _bins\n",
    "]\n",
    "\n",
    "clean_hike_trails['trip'] = np.select(_conditions, _bins)"
   ]
  },
  {
   "cell_type": "markdown",
   "metadata": {},
   "source": [
    "3.  Add new column `length_total` with the route length from column `length`, considering that for \"one-way\" trip you must double the route length."
   ]
  },
  {
   "cell_type": "code",
   "execution_count": 7,
   "metadata": {},
   "outputs": [],
   "source": [
    "# we will find all positive floats and even integers\n",
    "clean_hike_trails['length_total'] = clean_hike_trails.length.fillna('').astype(str).str.extract('(\\d+.\\d+|\\d+)',flags=0).astype(float)\n",
    "clean_hike_trails.loc[clean_hike_trails.trip=='one-way', 'length_total'] *=2"
   ]
  },
  {
   "cell_type": "markdown",
   "metadata": {},
   "source": [
    "4.  Add new column `location_general` with location from column `location` (a part before \"--\")."
   ]
  },
  {
   "cell_type": "code",
   "execution_count": 8,
   "metadata": {},
   "outputs": [],
   "source": [
    "clean_hike_trails['location_general'] = clean_hike_trails.location.fillna('').astype(str).str.split('--').str[0].str.rstrip(' ')"
   ]
  },
  {
   "cell_type": "markdown",
   "metadata": {},
   "source": [
    "\n",
    "5. Add column `id` with row number"
   ]
  },
  {
   "cell_type": "code",
   "execution_count": 9,
   "metadata": {},
   "outputs": [],
   "source": [
    "clean_hike_trails = clean_hike_trails.reset_index().rename(columns={'index':'id'})"
   ]
  },
  {
   "cell_type": "markdown",
   "metadata": {},
   "source": [
    "### Questioning dataset"
   ]
  },
  {
   "cell_type": "markdown",
   "metadata": {},
   "source": [
    "\n",
    "**Question 1.** How many routes have rating more than 4.9\n"
   ]
  },
  {
   "cell_type": "code",
   "execution_count": 10,
   "metadata": {},
   "outputs": [
    {
     "data": {
      "text/html": [
       "<div>\n",
       "<style scoped>\n",
       "    .dataframe tbody tr th:only-of-type {\n",
       "        vertical-align: middle;\n",
       "    }\n",
       "\n",
       "    .dataframe tbody tr th {\n",
       "        vertical-align: top;\n",
       "    }\n",
       "\n",
       "    .dataframe thead th {\n",
       "        text-align: right;\n",
       "    }\n",
       "</style>\n",
       "<table border=\"1\" class=\"dataframe\">\n",
       "  <thead>\n",
       "    <tr style=\"text-align: right;\">\n",
       "      <th></th>\n",
       "      <th>id</th>\n",
       "      <th>name</th>\n",
       "      <th>location</th>\n",
       "      <th>length</th>\n",
       "      <th>gain</th>\n",
       "      <th>highpoint</th>\n",
       "      <th>rating</th>\n",
       "      <th>features</th>\n",
       "      <th>description</th>\n",
       "      <th>trip</th>\n",
       "      <th>length_total</th>\n",
       "      <th>location_general</th>\n",
       "    </tr>\n",
       "  </thead>\n",
       "  <tbody>\n",
       "    <tr>\n",
       "      <th>0</th>\n",
       "      <td>0</td>\n",
       "      <td>Lake Hills Greenbelt</td>\n",
       "      <td>Puget Sound and Islands -- Seattle-Tacoma Area</td>\n",
       "      <td>2.3 miles, roundtrip</td>\n",
       "      <td>50.0</td>\n",
       "      <td>330.0</td>\n",
       "      <td>3.67</td>\n",
       "      <td>Dogs allowed on leash, Wildlife, Good for kids...</td>\n",
       "      <td>Hike through a pastoral area first settled and...</td>\n",
       "      <td>roundtrip</td>\n",
       "      <td>2.3</td>\n",
       "      <td>Puget Sound and Islands</td>\n",
       "    </tr>\n",
       "    <tr>\n",
       "      <th>1</th>\n",
       "      <td>1</td>\n",
       "      <td>Snow Lake</td>\n",
       "      <td>Snoqualmie Region -- Snoqualmie Pass</td>\n",
       "      <td>7.2 miles, roundtrip</td>\n",
       "      <td>1800.0</td>\n",
       "      <td>4400.0</td>\n",
       "      <td>4.16</td>\n",
       "      <td>Ridges/passes, Dogs allowed on leash, Establis...</td>\n",
       "      <td>A relatively short and easy hike within a ston...</td>\n",
       "      <td>roundtrip</td>\n",
       "      <td>7.2</td>\n",
       "      <td>Snoqualmie Region</td>\n",
       "    </tr>\n",
       "  </tbody>\n",
       "</table>\n",
       "</div>"
      ],
      "text/plain": [
       "   id                  name                                        location  \\\n",
       "0   0  Lake Hills Greenbelt  Puget Sound and Islands -- Seattle-Tacoma Area   \n",
       "1   1             Snow Lake            Snoqualmie Region -- Snoqualmie Pass   \n",
       "\n",
       "                 length    gain  highpoint  rating  \\\n",
       "0  2.3 miles, roundtrip    50.0      330.0    3.67   \n",
       "1  7.2 miles, roundtrip  1800.0     4400.0    4.16   \n",
       "\n",
       "                                            features  \\\n",
       "0  Dogs allowed on leash, Wildlife, Good for kids...   \n",
       "1  Ridges/passes, Dogs allowed on leash, Establis...   \n",
       "\n",
       "                                         description       trip  length_total  \\\n",
       "0  Hike through a pastoral area first settled and...  roundtrip           2.3   \n",
       "1  A relatively short and easy hike within a ston...  roundtrip           7.2   \n",
       "\n",
       "          location_general  \n",
       "0  Puget Sound and Islands  \n",
       "1        Snoqualmie Region  "
      ]
     },
     "execution_count": 10,
     "metadata": {},
     "output_type": "execute_result"
    }
   ],
   "source": [
    "clean_hike_trails[:2]"
   ]
  },
  {
   "cell_type": "code",
   "execution_count": 11,
   "metadata": {},
   "outputs": [
    {
     "data": {
      "text/plain": [
       "68"
      ]
     },
     "execution_count": 11,
     "metadata": {},
     "output_type": "execute_result"
    }
   ],
   "source": [
    "clean_hike_trails[clean_hike_trails.rating>4.9].id.count()"
   ]
  },
  {
   "cell_type": "markdown",
   "metadata": {},
   "source": [
    "\n",
    "**Question 2.** How many routes are \"Good for kids\" (hint: you can use (`unnest` function)?\n"
   ]
  },
  {
   "cell_type": "code",
   "execution_count": 12,
   "metadata": {},
   "outputs": [
    {
     "data": {
      "text/plain": [
       "694"
      ]
     },
     "execution_count": 12,
     "metadata": {},
     "output_type": "execute_result"
    }
   ],
   "source": [
    "clean_hike_trails[clean_hike_trails.features.fillna('').str.contains('Good for kids')].shape[0]"
   ]
  },
  {
   "cell_type": "markdown",
   "metadata": {},
   "source": [
    "**Question 3.** Which unique features can routes have?"
   ]
  },
  {
   "cell_type": "code",
   "execution_count": 13,
   "metadata": {},
   "outputs": [
    {
     "data": {
      "text/plain": [
       "['Coast',\n",
       " 'Dogs allowed on leash',\n",
       " 'Dogs not allowed',\n",
       " 'Established campsites',\n",
       " 'Fall foliage',\n",
       " 'Good for kids',\n",
       " 'Lakes',\n",
       " 'Mountain views',\n",
       " 'Old growth',\n",
       " 'Ridges/passes',\n",
       " 'Rivers',\n",
       " 'Summits',\n",
       " 'Waterfalls',\n",
       " 'Wildflowers/Meadows',\n",
       " 'Wildlife']"
      ]
     },
     "execution_count": 13,
     "metadata": {},
     "output_type": "execute_result"
    }
   ],
   "source": [
    "sorted(pd.Series(np.hstack(clean_hike_trails.features.fillna('').astype(str).str.split(', ', expand=True).values)).dropna().unique())[1:]\n"
   ]
  },
  {
   "cell_type": "markdown",
   "metadata": {},
   "source": [
    "\n",
    "**Question 4.** What is the most common rating of a route?\n"
   ]
  },
  {
   "cell_type": "code",
   "execution_count": 14,
   "metadata": {},
   "outputs": [
    {
     "data": {
      "text/plain": [
       "0.0    292\n",
       "Name: rating, dtype: int64"
      ]
     },
     "execution_count": 14,
     "metadata": {},
     "output_type": "execute_result"
    }
   ],
   "source": [
    "clean_hike_trails.rating.value_counts().iloc[:1]"
   ]
  },
  {
   "cell_type": "markdown",
   "metadata": {},
   "source": [
    "\n",
    "**Question 5.** Your own question and answer."
   ]
  },
  {
   "cell_type": "markdown",
   "metadata": {},
   "source": [
    "Avarage `length_total` for each `loaction_general` by `trip` type"
   ]
  },
  {
   "cell_type": "code",
   "execution_count": 15,
   "metadata": {},
   "outputs": [
    {
     "data": {
      "text/html": [
       "<div>\n",
       "<style scoped>\n",
       "    .dataframe tbody tr th:only-of-type {\n",
       "        vertical-align: middle;\n",
       "    }\n",
       "\n",
       "    .dataframe tbody tr th {\n",
       "        vertical-align: top;\n",
       "    }\n",
       "\n",
       "    .dataframe thead th {\n",
       "        text-align: right;\n",
       "    }\n",
       "</style>\n",
       "<table border=\"1\" class=\"dataframe\">\n",
       "  <thead>\n",
       "    <tr style=\"text-align: right;\">\n",
       "      <th>trip</th>\n",
       "      <th>one-way</th>\n",
       "      <th>roundtrip</th>\n",
       "      <th>trails</th>\n",
       "    </tr>\n",
       "    <tr>\n",
       "      <th>location_general</th>\n",
       "      <th></th>\n",
       "      <th></th>\n",
       "      <th></th>\n",
       "    </tr>\n",
       "  </thead>\n",
       "  <tbody>\n",
       "    <tr>\n",
       "      <th>Central Cascades</th>\n",
       "      <td>28.366667</td>\n",
       "      <td>8.724872</td>\n",
       "      <td>4.000000</td>\n",
       "    </tr>\n",
       "    <tr>\n",
       "      <th>Central Washington</th>\n",
       "      <td>33.400000</td>\n",
       "      <td>5.526582</td>\n",
       "      <td>NaN</td>\n",
       "    </tr>\n",
       "    <tr>\n",
       "      <th>Eastern Washington</th>\n",
       "      <td>24.709091</td>\n",
       "      <td>8.798696</td>\n",
       "      <td>8.331667</td>\n",
       "    </tr>\n",
       "    <tr>\n",
       "      <th>Issaquah Alps</th>\n",
       "      <td>8.526000</td>\n",
       "      <td>4.642769</td>\n",
       "      <td>19.350000</td>\n",
       "    </tr>\n",
       "    <tr>\n",
       "      <th>Mount Rainier Area</th>\n",
       "      <td>33.000000</td>\n",
       "      <td>7.724731</td>\n",
       "      <td>NaN</td>\n",
       "    </tr>\n",
       "    <tr>\n",
       "      <th>North Cascades</th>\n",
       "      <td>46.881818</td>\n",
       "      <td>10.146344</td>\n",
       "      <td>NaN</td>\n",
       "    </tr>\n",
       "    <tr>\n",
       "      <th>Olympic Peninsula</th>\n",
       "      <td>30.050000</td>\n",
       "      <td>7.904643</td>\n",
       "      <td>6.080000</td>\n",
       "    </tr>\n",
       "    <tr>\n",
       "      <th>Puget Sound and Islands</th>\n",
       "      <td>18.440000</td>\n",
       "      <td>3.377643</td>\n",
       "      <td>7.827083</td>\n",
       "    </tr>\n",
       "    <tr>\n",
       "      <th>Snoqualmie Region</th>\n",
       "      <td>16.600000</td>\n",
       "      <td>8.762654</td>\n",
       "      <td>NaN</td>\n",
       "    </tr>\n",
       "    <tr>\n",
       "      <th>South Cascades</th>\n",
       "      <td>23.050000</td>\n",
       "      <td>8.164318</td>\n",
       "      <td>9.000000</td>\n",
       "    </tr>\n",
       "    <tr>\n",
       "      <th>Southwest Washington</th>\n",
       "      <td>48.622222</td>\n",
       "      <td>5.391545</td>\n",
       "      <td>3.287500</td>\n",
       "    </tr>\n",
       "  </tbody>\n",
       "</table>\n",
       "</div>"
      ],
      "text/plain": [
       "trip                       one-way  roundtrip     trails\n",
       "location_general                                        \n",
       "Central Cascades         28.366667   8.724872   4.000000\n",
       "Central Washington       33.400000   5.526582        NaN\n",
       "Eastern Washington       24.709091   8.798696   8.331667\n",
       "Issaquah Alps             8.526000   4.642769  19.350000\n",
       "Mount Rainier Area       33.000000   7.724731        NaN\n",
       "North Cascades           46.881818  10.146344        NaN\n",
       "Olympic Peninsula        30.050000   7.904643   6.080000\n",
       "Puget Sound and Islands  18.440000   3.377643   7.827083\n",
       "Snoqualmie Region        16.600000   8.762654        NaN\n",
       "South Cascades           23.050000   8.164318   9.000000\n",
       "Southwest Washington     48.622222   5.391545   3.287500"
      ]
     },
     "execution_count": 15,
     "metadata": {},
     "output_type": "execute_result"
    }
   ],
   "source": [
    "clean_hike_trails.pivot_table(columns='trip',index='location_general', values='length_total', aggfunc=pd.Series.mean)"
   ]
  },
  {
   "cell_type": "code",
   "execution_count": null,
   "metadata": {},
   "outputs": [],
   "source": []
  }
 ],
 "metadata": {
  "kernelspec": {
   "display_name": "Python 3.8.9 ('artur_venv')",
   "language": "python",
   "name": "python3"
  },
  "language_info": {
   "codemirror_mode": {
    "name": "ipython",
    "version": 3
   },
   "file_extension": ".py",
   "mimetype": "text/x-python",
   "name": "python",
   "nbconvert_exporter": "python",
   "pygments_lexer": "ipython3",
   "version": "3.8.9"
  },
  "orig_nbformat": 4,
  "vscode": {
   "interpreter": {
    "hash": "5ba688fe027127b4e0a15469c7e90180b92e368f7178865286434d5e1e71ebb9"
   }
  }
 },
 "nbformat": 4,
 "nbformat_minor": 2
}
